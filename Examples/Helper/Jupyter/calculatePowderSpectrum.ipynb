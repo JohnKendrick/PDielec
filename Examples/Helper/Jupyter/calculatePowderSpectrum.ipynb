{
 "cells": [
  {
   "cell_type": "markdown",
   "id": "8bc7e638-da9f-487c-9e90-e145a7175cba",
   "metadata": {},
   "source": [
    "# Example of using PDielec to calculate a powder spectrum\n",
    "Start by importing some useful routines"
   ]
  },
  {
   "cell_type": "code",
   "execution_count": 1,
   "id": "9afa7767-a929-44cb-86d0-543d254ef9c8",
   "metadata": {},
   "outputs": [],
   "source": [
    "import numpy                      as np\n",
    "import sys\n",
    "sys.path.insert(0, \"../../..\")     # This should allow the PDielec modules to be found\n",
    "from PDielec.HelperRoutines   import getMaterial\n",
    "from PDielec.HelperRoutines   import calculatePowderSpectrum\n",
    "from PDielec.HelperRoutines   import calculateSingleCrystalSpectrum\n"
   ]
  },
  {
   "cell_type": "markdown",
   "id": "d45f3879",
   "metadata": {},
   "source": [
    "## Define the materials to be used.\n",
    "In this example we read the VASP file in the current directory\n",
    "The OUTCAR in this directory is for a VASP calculation on ZnO\n",
    "The support material will be PTFE"
   ]
  },
  {
   "cell_type": "code",
   "execution_count": 2,
   "id": "d9d67c64",
   "metadata": {},
   "outputs": [],
   "source": [
    "ZnO = getMaterial('ZnO/OUTCAR')\n",
    "matrix = getMaterial('ptfe')"
   ]
  },
  {
   "cell_type": "markdown",
   "id": "6b8846c7",
   "metadata": {},
   "source": [
    "## Use calculate the absorption using effective medium theory\n"
   ]
  },
  {
   "cell_type": "code",
   "execution_count": null,
   "id": "082546e2",
   "metadata": {},
   "outputs": [],
   "source": [
    "frequencies = np.arange(200,500,0.2)\n",
    "absorption1 = calculatePowderSpectrum(frequencies,ZnO,matrix,0.1) # Default is Maxwell-Garnett\n",
    "absorption2 = calculatePowderSpectrum(frequencies,ZnO,matrix,0.2) # and sphere\n",
    "absorption3 = calculatePowderSpectrum(frequencies,ZnO,matrix,0.1,method='bruggeman')\n",
    "absorption4 = calculatePowderSpectrum(frequencies,ZnO,matrix,0.2,method='bruggeman')"
   ]
  },
  {
   "cell_type": "markdown",
   "id": "3f7d8a07",
   "metadata": {},
   "source": [
    "## Plot the absorption coefficent"
   ]
  },
  {
   "cell_type": "code",
   "execution_count": null,
   "id": "3a9bee92",
   "metadata": {},
   "outputs": [],
   "source": [
    "import matplotlib.pyplot as plt\n",
    "plt.figure(figsize = (10,5)) # set the size of the figure\n",
    "plt.plot(frequencies, absorption1,label='vf=0.1 (MG)') \n",
    "plt.plot(frequencies, absorption2,label='vf=0.2 (MG)')\n",
    "plt.plot(frequencies, absorption3,label='vf=0.1 (Bruggeman)') \n",
    "plt.plot(frequencies, absorption4,label='vf=0.2 (Bruggeman)')\n",
    "plt.xlabel('Frequency (cm-1)')\n",
    "plt.ylabel('Absorption (cm-1)')\n",
    "plt.legend(), plt.show()"
   ]
  }
 ],
 "metadata": {
  "kernelspec": {
   "display_name": "Python [conda env:.conda-develop]",
   "language": "python",
   "name": "conda-env-.conda-develop-py"
  },
  "language_info": {
   "codemirror_mode": {
    "name": "ipython",
    "version": 3
   },
   "file_extension": ".py",
   "mimetype": "text/x-python",
   "name": "python",
   "nbconvert_exporter": "python",
   "pygments_lexer": "ipython3",
   "version": "3.11.3"
  }
 },
 "nbformat": 4,
 "nbformat_minor": 5
}
