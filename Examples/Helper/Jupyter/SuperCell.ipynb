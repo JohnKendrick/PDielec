{
 "cells": [
  {
   "cell_type": "markdown",
   "id": "54da5b6e-9031-420c-b63d-1dee63bbd0c7",
   "metadata": {},
   "source": [
    "# SuperCell examples"
   ]
  },
  {
   "cell_type": "code",
   "execution_count": 1,
   "id": "08702061-8489-4dba-88b8-826147fa102f",
   "metadata": {},
   "outputs": [],
   "source": [
    "import sys\n",
    "sys.path.insert(0, \"../../..\") \n",
    "from PDielec.SuperCell import SuperCell\n",
    "from PDielec.UnitCell import UnitCell\n",
    "from PDielec.HelperRoutines import getMaterial"
   ]
  },
  {
   "cell_type": "code",
   "execution_count": 2,
   "id": "5b315100-76d3-4558-9e40-a2d483b9a0ec",
   "metadata": {},
   "outputs": [],
   "source": [
    "ZnO = getMaterial('ZnO/OUTCAR')\n",
    "uc = ZnO.getCell()"
   ]
  },
  {
   "cell_type": "code",
   "execution_count": 3,
   "id": "13fc52a2-fcff-44d7-bbea-4820a80e6741",
   "metadata": {},
   "outputs": [],
   "source": [
    "imageSpecifier = [3,2,1]\n",
    "sc=SuperCell(uc,imageSpecifier)"
   ]
  },
  {
   "cell_type": "code",
   "execution_count": 4,
   "id": "9ebe0bd8-123d-48fc-b1b2-bdeb3c53394f",
   "metadata": {},
   "outputs": [
    {
     "name": "stdout",
     "output_type": "stream",
     "text": [
      "SuperCell\n",
      " \n",
      "Image_specifier\n",
      "         3         2         1\n",
      "Units for length are:  Angstrom\n",
      " \n",
      "Unit Cell a,b,c \n",
      "     3.295058     3.295058     5.284824\n",
      " \n",
      "Unit Cell alpha,beta,gamma\n",
      "    90.000000    90.000000   120.000000\n",
      " \n",
      "lattice\n",
      "     2.853604    -1.647529     0.000000\n",
      "     0.000000     3.295058     0.000000\n",
      "     0.000000     0.000000     5.284824\n",
      " \n",
      "Element names\n",
      " Zn        Zn        O         O        \n",
      " \n",
      "Fractional coords\n",
      "     0.333333     0.666667     0.000900\n",
      "     0.666667     0.333333     0.500900\n",
      "     0.333333     0.666667     0.381600\n",
      "     0.666667     0.333333     0.881600\n",
      " \n",
      "Cartesian coords\n",
      "     0.951201     1.647529     0.004758\n",
      "     1.902403    -0.000000     2.647170\n",
      "     0.951201     1.647529     2.016687\n",
      "     1.902403    -0.000000     4.659099\n",
      "SuperCell Image list\n",
      "         0         0         0\n",
      "         0         1         0\n",
      "         1         0         0\n",
      "         1         1         0\n",
      "         2         0         0\n",
      "         2         1         0\n",
      "SuperCell Corners\n",
      "    -4.280406    -0.823765    -2.642412\n",
      "     4.280406    -5.766352    -2.642412\n",
      "     4.280406     0.823765    -2.642412\n",
      "    -4.280406     5.766352    -2.642412\n",
      "    -4.280406    -0.823765     2.642412\n",
      "     4.280406    -5.766352     2.642412\n",
      "     4.280406     0.823765     2.642412\n",
      "    -4.280406     5.766352     2.642412\n",
      "\n",
      "SuperCell XYZ (Coordinates)\n",
      "     0.951201     1.647529     0.004758\n",
      "     1.902403    -0.000000     2.647170\n",
      "     0.951201     1.647529     2.016687\n",
      "     1.902403    -0.000000     4.659099\n",
      "     0.951201     4.942587     0.004758\n",
      "     1.902403     3.295058     2.647170\n",
      "     0.951201     4.942587     2.016687\n",
      "     1.902403     3.295058     4.659099\n",
      "     3.804805     0.000000     0.004758\n",
      "     4.756007    -1.647529     2.647170\n",
      "     3.804805     0.000000     2.016687\n",
      "     4.756007    -1.647529     4.659099\n",
      "     3.804805     3.295058     0.004758\n",
      "     4.756007     1.647529     2.647170\n",
      "     3.804805     3.295058     2.016687\n",
      "     4.756007     1.647529     4.659099\n",
      "     6.658409    -1.647529     0.004758\n",
      "     7.609611    -3.295058     2.647170\n",
      "     6.658409    -1.647529     2.016687\n",
      "     7.609611    -3.295058     4.659099\n",
      "     6.658409     1.647529     0.004758\n",
      "     7.609611    -0.000000     2.647170\n",
      "     6.658409     1.647529     2.016687\n",
      "     7.609611    -0.000000     4.659099\n"
     ]
    }
   ],
   "source": [
    "sc.print()"
   ]
  },
  {
   "cell_type": "code",
   "execution_count": null,
   "id": "0bd669e0-9129-4d1f-8154-557e28cdf915",
   "metadata": {},
   "outputs": [],
   "source": []
  }
 ],
 "metadata": {
  "kernelspec": {
   "display_name": "Python 3 (ipykernel)",
   "language": "python",
   "name": "python3"
  },
  "language_info": {
   "codemirror_mode": {
    "name": "ipython",
    "version": 3
   },
   "file_extension": ".py",
   "mimetype": "text/x-python",
   "name": "python",
   "nbconvert_exporter": "python",
   "pygments_lexer": "ipython3",
   "version": "3.11.3"
  }
 },
 "nbformat": 4,
 "nbformat_minor": 5
}
