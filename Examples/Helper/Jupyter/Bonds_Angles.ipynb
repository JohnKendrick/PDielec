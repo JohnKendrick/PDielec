{
 "cells": [
  {
   "cell_type": "markdown",
   "id": "54da5b6e-9031-420c-b63d-1dee63bbd0c7",
   "metadata": {},
   "source": [
    "# UnitCell examples"
   ]
  },
  {
   "cell_type": "markdown",
   "id": "525f44c8-0d73-4d8b-bd05-ef31cee9f225",
   "metadata": {},
   "source": [
    "# Finding bonds angles and torsions"
   ]
  },
  {
   "cell_type": "code",
   "execution_count": 1,
   "id": "08702061-8489-4dba-88b8-826147fa102f",
   "metadata": {},
   "outputs": [],
   "source": [
    "import sys, os\n",
    "home_directory = os.path.join(\"..\",\"..\",\"..\")\n",
    "examples_directory = os.path.join(home_directory,'Examples')\n",
    "sys.path.insert(0, home_directory)\n",
    "from PDielec.UnitCell import UnitCell\n",
    "from PDielec.HelperRoutines   import getMaterial"
   ]
  },
  {
   "cell_type": "markdown",
   "id": "30b39177-505c-4c3d-ad09-06d85c49219c",
   "metadata": {},
   "source": [
    "## Read in the CASTEP aspartic acid example"
   ]
  },
  {
   "cell_type": "code",
   "execution_count": 2,
   "id": "5b315100-76d3-4558-9e40-a2d483b9a0ec",
   "metadata": {},
   "outputs": [],
   "source": [
    "aspartic = getMaterial(os.path.join(examples_directory,'Castep','AsparticAcid','phonon.castep'))\n",
    "uc = aspartic.getCell()"
   ]
  },
  {
   "cell_type": "markdown",
   "id": "e10174f9-b4d6-431b-92ab-8f1b52aba79e",
   "metadata": {},
   "source": [
    "## Show the cif file"
   ]
  },
  {
   "cell_type": "code",
   "execution_count": 3,
   "id": "81179632-ea16-4446-af4a-9777e3fdf69a",
   "metadata": {},
   "outputs": [
    {
     "name": "stdout",
     "output_type": "stream",
     "text": [
      "data_\n",
      "_symmetry_space_group_name_H-M 'P2_1'\n",
      "_symmetry_Int_Tables_number      4  \n",
      "_cell_length_a          7.596991\n",
      "_cell_length_b          7.028251\n",
      "_cell_length_c          5.112691\n",
      "_cell_angle_alpha      90.000000\n",
      "_cell_angle_beta       98.771837\n",
      "_cell_angle_gamma      90.000000\n",
      "_cell_volume          269.791811\n",
      "loop_\n",
      "_atom_site_label\n",
      "_atom_site_type_symbol\n",
      "_atom_site_fract_x\n",
      "_atom_site_fract_y\n",
      "_atom_site_fract_z\n",
      "H1 H     0.212236     0.008630     0.332875\n",
      "H2 H     0.787764     0.508630     0.667125\n",
      "H3 H     0.799635     0.809274     0.461441\n",
      "H4 H     0.200365     0.309274     0.538559\n",
      "H5 H     0.701890     0.830609     0.126992\n",
      "H6 H     0.298110     0.330609     0.873008\n",
      "H7 H     0.612366     0.157191     0.968386\n",
      "H8 H     0.387634     0.657191     0.031614\n",
      "H9 H     0.607509     0.341280     0.185888\n",
      "H10 H     0.392491     0.841280     0.814112\n",
      "H11 H     0.801115     0.274496     0.091066\n",
      "H12 H     0.198885     0.774496     0.908934\n",
      "H13 H     0.791123     0.152869     0.525292\n",
      "H14 H     0.208877     0.652869     0.474708\n",
      "C15 C     0.525080     0.042273     0.447911\n",
      "C16 C     0.474920     0.542273     0.552089\n",
      "C17 C     0.704880     0.086294     0.361893\n",
      "C18 C     0.295120     0.586294     0.638107\n",
      "C19 C     0.787022     0.901462     0.287993\n",
      "C20 C     0.212978     0.401462     0.712007\n",
      "C21 C     0.969763     0.915730     0.212429\n",
      "C22 C     0.030237     0.415730     0.787571\n",
      "N23 N     0.680070     0.222795     0.137533\n",
      "N24 N     0.319930     0.722795     0.862467\n",
      "O25 O     0.395420     0.031082     0.267618\n",
      "O26 O     0.604580     0.531082     0.732382\n",
      "O27 O     0.523882     0.015056     0.687344\n",
      "O28 O     0.476118     0.515056     0.312656\n",
      "O29 O     1.002365     0.848409     0.007361\n",
      "O30 O    -0.002365     0.348409     0.992639\n",
      "O31 O     0.085124    -0.001350     0.389517\n",
      "O32 O     0.914876     0.498650     0.610483\n",
      " \n",
      "#END\n",
      " \n"
     ]
    }
   ],
   "source": [
    "uc.write_cif()"
   ]
  },
  {
   "cell_type": "markdown",
   "id": "7733aa97-725a-422e-9010-65ab39b744b4",
   "metadata": {},
   "source": [
    "## We can only calculate bonds, bond angles and torsion angles for a whole molecule cell"
   ]
  },
  {
   "cell_type": "code",
   "execution_count": 4,
   "id": "4dc2e1b8-aa98-493e-a139-8e1181621d19",
   "metadata": {},
   "outputs": [
    {
     "name": "stdout",
     "output_type": "stream",
     "text": [
      "Number of whole molecules 2\n"
     ]
    }
   ],
   "source": [
    "newcell,number_of_molecules,old_atom_order = uc.calculate_molecular_contents()\n",
    "print('Number of whole molecules {}'.format(number_of_molecules))\n",
    "labels = newcell.get_atom_labels()"
   ]
  },
  {
   "cell_type": "markdown",
   "id": "f3cdfb2f-1243-418b-9cd8-e9d44c55dede",
   "metadata": {},
   "source": [
    "## Using the new cell with whole molecules calculate the bonds"
   ]
  },
  {
   "cell_type": "code",
   "execution_count": 5,
   "id": "2db81006-0928-4ff2-b226-12ca058d7ee5",
   "metadata": {},
   "outputs": [
    {
     "name": "stdout",
     "output_type": "stream",
     "text": [
      "Bond O2-H1 = 1.0519476200047713 Angstrom\n",
      "Bond C3-O2 = 1.2982431733446456 Angstrom\n",
      "Bond C4-C3 = 1.5000739414630535 Angstrom\n",
      "Bond O5-C3 = 1.209818673126047 Angstrom\n",
      "Bond H6-C4 = 1.0869494973114884 Angstrom\n",
      "Bond C7-C4 = 1.5138036993268438 Angstrom\n",
      "Bond H8-C4 = 1.0906215037425153 Angstrom\n",
      "Bond C9-C7 = 1.5290979285381454 Angstrom\n",
      "Bond H10-C7 = 1.0858969697039849 Angstrom\n",
      "Bond N11-C7 = 1.4851805046629354 Angstrom\n",
      "Bond H12-N11 = 1.0488168339057995 Angstrom\n",
      "Bond H13-N11 = 1.0491575516626102 Angstrom\n",
      "Bond H14-N11 = 1.0437220074122178 Angstrom\n",
      "Bond O15-C9 = 1.2446731428250286 Angstrom\n",
      "Bond O16-C9 = 1.2404062259768536 Angstrom\n",
      "Bond O18-H17 = 1.0519476200047717 Angstrom\n",
      "Bond C19-O18 = 1.298243173344646 Angstrom\n",
      "Bond C20-C19 = 1.5000739414630542 Angstrom\n",
      "Bond O21-C19 = 1.2098186731260465 Angstrom\n",
      "Bond H22-C20 = 1.0906215037425153 Angstrom\n",
      "Bond H23-C20 = 1.0869494973114884 Angstrom\n",
      "Bond C24-C20 = 1.5138036993268429 Angstrom\n",
      "Bond H25-C24 = 1.0858969697039849 Angstrom\n",
      "Bond C26-C24 = 1.5290979285381456 Angstrom\n",
      "Bond N27-C24 = 1.485180504662936 Angstrom\n",
      "Bond H28-N27 = 1.0491575516626104 Angstrom\n",
      "Bond H29-N27 = 1.0488168339057984 Angstrom\n",
      "Bond H30-N27 = 1.043722007412217 Angstrom\n",
      "Bond O31-C26 = 1.2446731428250273 Angstrom\n",
      "Bond O32-C26 = 1.2404062259768542 Angstrom\n"
     ]
    }
   ],
   "source": [
    "bonds, bondlengths = newcell.get_bonds()\n",
    "for (i,j),bondlength in zip(bonds,bondlengths):\n",
    "    print('Bond {}-{} = {} Angstrom'.format(labels[i],labels[j],bondlength))"
   ]
  },
  {
   "cell_type": "markdown",
   "id": "e612a585-16b7-4177-8098-af31a9a499cd",
   "metadata": {},
   "source": [
    "# Bond angles"
   ]
  },
  {
   "cell_type": "code",
   "execution_count": 6,
   "id": "17c22353-067c-4593-8282-716acb97aa7d",
   "metadata": {},
   "outputs": [
    {
     "name": "stdout",
     "output_type": "stream",
     "text": [
      "Bond angle C3-O2-H1 = 112.85178108050212 degrees\n",
      "Bond angle C4-C3-O2 = 113.78073414489424 degrees\n",
      "Bond angle O5-C3-O2 = 125.05042029628092 degrees\n",
      "Bond angle H6-C4-C3 = 107.62246136635883 degrees\n",
      "Bond angle C7-C4-C3 = 116.09349999715677 degrees\n",
      "Bond angle H8-C4-C3 = 106.20762446779706 degrees\n",
      "Bond angle C9-C7-C4 = 108.5708291767109 degrees\n",
      "Bond angle H10-C7-C4 = 109.78277810137388 degrees\n",
      "Bond angle N11-C7-C4 = 111.72419297969441 degrees\n",
      "Bond angle O15-C9-C7 = 116.13960670334524 degrees\n",
      "Bond angle O16-C9-C7 = 117.15254121249228 degrees\n",
      "Bond angle H12-N11-C7 = 109.88781783012786 degrees\n",
      "Bond angle H13-N11-C7 = 112.72039202510805 degrees\n",
      "Bond angle H14-N11-C7 = 110.06258744219994 degrees\n",
      "Bond angle C19-O18-H17 = 112.8517810805021 degrees\n",
      "Bond angle C20-C19-O18 = 113.7807341448942 degrees\n",
      "Bond angle O21-C19-O18 = 125.05042029628089 degrees\n",
      "Bond angle H22-C20-C19 = 106.20762446779696 degrees\n",
      "Bond angle H23-C20-C19 = 107.62246136635872 degrees\n",
      "Bond angle C24-C20-C19 = 116.09349999715671 degrees\n",
      "Bond angle H25-C24-C20 = 109.78277810137394 degrees\n",
      "Bond angle C26-C24-C20 = 108.57082917671086 degrees\n",
      "Bond angle N27-C24-C20 = 111.72419297969442 degrees\n",
      "Bond angle O31-C26-C24 = 116.13960670334521 degrees\n",
      "Bond angle O32-C26-C24 = 117.15254121249227 degrees\n",
      "Bond angle H28-N27-C24 = 112.72039202510798 degrees\n",
      "Bond angle H29-N27-C24 = 109.88781783012784 degrees\n",
      "Bond angle H30-N27-C24 = 110.06258744219994 degrees\n"
     ]
    }
   ],
   "source": [
    "angles,bondangles = newcell.get_bond_angles()\n",
    "for (i,j,k),bondangle in zip(angles,bondangles):\n",
    "    print('Bond angle {}-{}-{} = {} degrees'.format(labels[i],labels[j],labels[k],bondangle))\n"
   ]
  },
  {
   "cell_type": "markdown",
   "id": "2bf28094-178f-4e8e-9599-8b40ec941380",
   "metadata": {},
   "source": [
    "# Torsion angles"
   ]
  },
  {
   "cell_type": "code",
   "execution_count": 7,
   "id": "09d4a1c1-77c1-4148-a933-502fc21350dd",
   "metadata": {},
   "outputs": [
    {
     "name": "stdout",
     "output_type": "stream",
     "text": [
      "Torsion angle C4-C3-O2-H1 = -179.48643944557597 degrees\n",
      "Torsion angle O5-C3-O2-H1 = 2.9862727627064705 degrees\n",
      "Torsion angle H6-C4-C3-O2 = 179.89433400583167 degrees\n",
      "Torsion angle C7-C4-C3-O2 = 54.56252365463555 degrees\n",
      "Torsion angle H8-C4-C3-O2 = -64.4362178701354 degrees\n",
      "Torsion angle H6-C4-C3-O5 = -2.4702283359639767 degrees\n",
      "Torsion angle C7-C4-C3-O5 = -127.80203868716006 degrees\n",
      "Torsion angle C9-C7-C4-C3 = -176.72125855276232 degrees\n",
      "Torsion angle H10-C7-C4-C3 = -57.581157883374246 degrees\n",
      "Torsion angle N11-C7-C4-C3 = 62.016136986715814 degrees\n",
      "Torsion angle H8-C4-C3-O5 = 113.19921978806899 degrees\n",
      "Torsion angle C9-C7-C4-H6 = 59.7953569859765 degrees\n",
      "Torsion angle C9-C7-C4-H8 = -58.25220095009225 degrees\n",
      "Torsion angle O15-C9-C7-C4 = -85.31028873227183 degrees\n",
      "Torsion angle O16-C9-C7-C4 = 92.30919141042217 degrees\n",
      "Torsion angle H10-C7-C4-H6 = 178.9354576553646 degrees\n",
      "Torsion angle H10-C7-C4-H8 = 60.88789971929583 degrees\n",
      "Torsion angle N11-C7-C4-H6 = -61.46724747454536 degrees\n",
      "Torsion angle N11-C7-C4-H8 = -179.51480541061412 degrees\n",
      "Torsion angle H12-N11-C7-C4 = 172.32505534549063 degrees\n",
      "Torsion angle H13-N11-C7-C4 = -68.70615784021204 degrees\n",
      "Torsion angle H14-N11-C7-C4 = 51.51288924765495 degrees\n",
      "Torsion angle O15-C9-C7-H10 = 155.09679256145796 degrees\n",
      "Torsion angle O15-C9-C7-N11 = 37.11345987113297 degrees\n",
      "Torsion angle O16-C9-C7-H10 = -27.28372729584803 degrees\n",
      "Torsion angle O16-C9-C7-N11 = -145.26705998617302 degrees\n",
      "Torsion angle H12-N11-C7-C9 = 51.79112181378434 degrees\n",
      "Torsion angle H12-N11-C7-H10 = -66.94248471392521 degrees\n",
      "Torsion angle H13-N11-C7-C9 = 170.75990862808166 degrees\n",
      "Torsion angle H13-N11-C7-H10 = 52.026302100372114 degrees\n",
      "Torsion angle H14-N11-C7-C9 = -69.02104428405136 degrees\n",
      "Torsion angle H14-N11-C7-H10 = 172.2453491882391 degrees\n",
      "Torsion angle C20-C19-O18-H17 = -179.48643944557597 degrees\n",
      "Torsion angle O21-C19-O18-H17 = 2.9862727627064545 degrees\n",
      "Torsion angle H22-C20-C19-O18 = -64.43621787013541 degrees\n",
      "Torsion angle H23-C20-C19-O18 = 179.89433400583167 degrees\n",
      "Torsion angle C24-C20-C19-O18 = 54.562523654635555 degrees\n",
      "Torsion angle H22-C20-C19-O21 = 113.19921978806899 degrees\n",
      "Torsion angle H23-C20-C19-O21 = -2.4702283359639163 degrees\n",
      "Torsion angle C24-C20-C19-O21 = -127.80203868716006 degrees\n",
      "Torsion angle H25-C24-C20-C19 = -57.58115788337425 degrees\n",
      "Torsion angle C26-C24-C20-C19 = -176.72125855276235 degrees\n",
      "Torsion angle N27-C24-C20-C19 = 62.01613698671587 degrees\n",
      "Torsion angle H25-C24-C20-H22 = 60.887899719295724 degrees\n",
      "Torsion angle H25-C24-C20-H23 = 178.93545765536464 degrees\n",
      "Torsion angle C26-C24-C20-H22 = -58.252200950092366 degrees\n",
      "Torsion angle C26-C24-C20-H23 = 59.79535698597656 degrees\n",
      "Torsion angle O31-C26-C24-C20 = -85.31028873227181 degrees\n",
      "Torsion angle O32-C26-C24-C20 = 92.30919141042217 degrees\n",
      "Torsion angle N27-C24-C20-H22 = -179.51480541061417 degrees\n",
      "Torsion angle N27-C24-C20-H23 = -61.467247474545246 degrees\n",
      "Torsion angle H28-N27-C24-C20 = -68.70615784021209 degrees\n",
      "Torsion angle H29-N27-C24-C20 = 172.32505534549068 degrees\n",
      "Torsion angle H30-N27-C24-C20 = 51.51288924765486 degrees\n",
      "Torsion angle O31-C26-C24-H25 = 155.09679256145793 degrees\n",
      "Torsion angle O31-C26-C24-N27 = 37.11345987113295 degrees\n",
      "Torsion angle O32-C26-C24-H25 = -27.283727295848095 degrees\n",
      "Torsion angle O32-C26-C24-N27 = -145.26705998617305 degrees\n",
      "Torsion angle H28-N27-C24-H25 = 52.02630210037216 degrees\n",
      "Torsion angle H28-N27-C24-C26 = 170.7599086280817 degrees\n",
      "Torsion angle H29-N27-C24-H25 = -66.94248471392507 degrees\n",
      "Torsion angle H29-N27-C24-C26 = 51.791121813784436 degrees\n",
      "Torsion angle H30-N27-C24-H25 = 172.24534918823912 degrees\n",
      "Torsion angle H30-N27-C24-C26 = -69.02104428405136 degrees\n"
     ]
    }
   ],
   "source": [
    "torsions,torsionangles = newcell.get_torsions()\n",
    "for (i,j,k,l),torsionangle in zip(torsions,torsionangles):\n",
    "    print('Torsion angle {}-{}-{}-{} = {} degrees'.format(labels[i],labels[j],labels[k],labels[l],torsionangle))"
   ]
  }
 ],
 "metadata": {
  "kernelspec": {
   "display_name": "Python 3 (ipykernel)",
   "language": "python",
   "name": "python3"
  },
  "language_info": {
   "codemirror_mode": {
    "name": "ipython",
    "version": 3
   },
   "file_extension": ".py",
   "mimetype": "text/x-python",
   "name": "python",
   "nbconvert_exporter": "python",
   "pygments_lexer": "ipython3",
   "version": "3.11.3"
  }
 },
 "nbformat": 4,
 "nbformat_minor": 5
}
