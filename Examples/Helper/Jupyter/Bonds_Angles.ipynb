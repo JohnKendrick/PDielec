{
 "cells": [
  {
   "cell_type": "markdown",
   "id": "54da5b6e-9031-420c-b63d-1dee63bbd0c7",
   "metadata": {},
   "source": [
    "# UnitCell examples"
   ]
  },
  {
   "cell_type": "markdown",
   "id": "525f44c8-0d73-4d8b-bd05-ef31cee9f225",
   "metadata": {},
   "source": [
    "# Finding bonds angles and torsions"
   ]
  },
  {
   "cell_type": "code",
   "execution_count": 1,
   "id": "08702061-8489-4dba-88b8-826147fa102f",
   "metadata": {},
   "outputs": [],
   "source": [
    "import sys, os\n",
    "home_directory = os.path.join(\"..\",\"..\",\"..\")\n",
    "examples_directory = os.path.join(home_directory,'Examples')\n",
    "sys.path.insert(0, home_directory)\n",
    "from PDielec.UnitCell import UnitCell\n",
    "from PDielec.HelperRoutines   import getMaterial"
   ]
  },
  {
   "cell_type": "markdown",
   "id": "30b39177-505c-4c3d-ad09-06d85c49219c",
   "metadata": {},
   "source": [
    "## Read in the CASTEP aspartic acid example"
   ]
  },
  {
   "cell_type": "code",
   "execution_count": 2,
   "id": "5b315100-76d3-4558-9e40-a2d483b9a0ec",
   "metadata": {},
   "outputs": [],
   "source": [
    "aspartic = getMaterial(os.path.join(examples_directory,'Castep','AsparticAcid','phonon.castep'))\n",
    "uc = aspartic.getCell()"
   ]
  },
  {
   "cell_type": "markdown",
   "id": "e10174f9-b4d6-431b-92ab-8f1b52aba79e",
   "metadata": {},
   "source": [
    "## Show the cif file"
   ]
  },
  {
   "cell_type": "code",
   "execution_count": 3,
   "id": "81179632-ea16-4446-af4a-9777e3fdf69a",
   "metadata": {},
   "outputs": [
    {
     "name": "stdout",
     "output_type": "stream",
     "text": [
      "data_\n",
      "_symmetry_space_group_name_H-M 'P2_1'\n",
      "_symmetry_Int_Tables_number      4  \n",
      "_cell_length_a          7.596991\n",
      "_cell_length_b          7.028251\n",
      "_cell_length_c          5.112691\n",
      "_cell_angle_alpha      90.000000\n",
      "_cell_angle_beta       98.771837\n",
      "_cell_angle_gamma      90.000000\n",
      "_cell_volume          269.791811\n",
      "loop_\n",
      "_atom_site_label\n",
      "_atom_site_type_symbol\n",
      "_atom_site_fract_x\n",
      "_atom_site_fract_y\n",
      "_atom_site_fract_z\n",
      "H1 H     0.212236     0.008630     0.332875\n",
      "H2 H     0.787764     0.508630     0.667125\n",
      "H3 H     0.799635     0.809274     0.461441\n",
      "H4 H     0.200365     0.309274     0.538559\n",
      "H5 H     0.701890     0.830609     0.126992\n",
      "H6 H     0.298110     0.330609     0.873008\n",
      "H7 H     0.612366     0.157191     0.968386\n",
      "H8 H     0.387634     0.657191     0.031614\n",
      "H9 H     0.607509     0.341280     0.185888\n",
      "H10 H     0.392491     0.841280     0.814112\n",
      "H11 H     0.801115     0.274496     0.091066\n",
      "H12 H     0.198885     0.774496     0.908934\n",
      "H13 H     0.791123     0.152869     0.525292\n",
      "H14 H     0.208877     0.652869     0.474708\n",
      "C15 C     0.525080     0.042273     0.447911\n",
      "C16 C     0.474920     0.542273     0.552089\n",
      "C17 C     0.704880     0.086294     0.361893\n",
      "C18 C     0.295120     0.586294     0.638107\n",
      "C19 C     0.787022     0.901462     0.287993\n",
      "C20 C     0.212978     0.401462     0.712007\n",
      "C21 C     0.969763     0.915730     0.212429\n",
      "C22 C     0.030237     0.415730     0.787571\n",
      "N23 N     0.680070     0.222795     0.137533\n",
      "N24 N     0.319930     0.722795     0.862467\n",
      "O25 O     0.395420     0.031082     0.267618\n",
      "O26 O     0.604580     0.531082     0.732382\n",
      "O27 O     0.523882     0.015056     0.687344\n",
      "O28 O     0.476118     0.515056     0.312656\n",
      "O29 O     1.002365     0.848409     0.007361\n",
      "O30 O    -0.002365     0.348409     0.992639\n",
      "O31 O     0.085124    -0.001350     0.389517\n",
      "O32 O     0.914876     0.498650     0.610483\n",
      " \n",
      "#END\n",
      " \n"
     ]
    }
   ],
   "source": [
    "uc.write_cif()"
   ]
  },
  {
   "cell_type": "markdown",
   "id": "7733aa97-725a-422e-9010-65ab39b744b4",
   "metadata": {},
   "source": [
    "## We can only calculate bonds, bond angles and torsion angles for a whole molecule cell"
   ]
  },
  {
   "cell_type": "code",
   "execution_count": 5,
   "id": "4dc2e1b8-aa98-493e-a139-8e1181621d19",
   "metadata": {},
   "outputs": [
    {
     "name": "stdout",
     "output_type": "stream",
     "text": [
      "Number of whole molecules 2\n"
     ]
    }
   ],
   "source": [
    "number_of_molecules = uc.calculate_molecular_contents()\n",
    "print('Number of whole molecules {}'.format(number_of_molecules))\n",
    "labels = uc.get_atom_labels()"
   ]
  },
  {
   "cell_type": "markdown",
   "id": "f3cdfb2f-1243-418b-9cd8-e9d44c55dede",
   "metadata": {},
   "source": [
    "## Using the new cell with whole molecules calculate the bonds"
   ]
  },
  {
   "cell_type": "code",
   "execution_count": 6,
   "id": "2db81006-0928-4ff2-b226-12ca058d7ee5",
   "metadata": {},
   "outputs": [
    {
     "name": "stdout",
     "output_type": "stream",
     "text": [
      "Bond O31-H1 = 1.0519476200047715 Angstrom\n",
      "Bond O31-C21 = 1.298243173344645 Angstrom\n",
      "Bond C21-C19 = 1.500073941463054 Angstrom\n",
      "Bond O29-C21 = 1.2098186731260467 Angstrom\n",
      "Bond C19-H5 = 1.0869494973114882 Angstrom\n",
      "Bond C19-H3 = 1.0906215037425155 Angstrom\n",
      "Bond C19-C17 = 1.513803699326844 Angstrom\n",
      "Bond C17-C15 = 1.5290979285381452 Angstrom\n",
      "Bond C17-H13 = 1.0858969697039844 Angstrom\n",
      "Bond N23-C17 = 1.4851805046629356 Angstrom\n",
      "Bond N23-H9 = 1.0488168339057993 Angstrom\n",
      "Bond N23-H7 = 1.0437220074122175 Angstrom\n",
      "Bond N23-H11 = 1.0491575516626104 Angstrom\n",
      "Bond O25-C15 = 1.2446731428250286 Angstrom\n",
      "Bond O27-C15 = 1.2404062259768536 Angstrom\n",
      "Bond O32-H2 = 1.0519476200047715 Angstrom\n",
      "Bond O32-C22 = 1.298243173344646 Angstrom\n",
      "Bond C22-C20 = 1.500073941463054 Angstrom\n",
      "Bond O30-C22 = 1.2098186731260465 Angstrom\n",
      "Bond C20-H4 = 1.0906215037425155 Angstrom\n",
      "Bond C20-H6 = 1.086949497311488 Angstrom\n",
      "Bond C20-C18 = 1.5138036993268433 Angstrom\n",
      "Bond C18-H14 = 1.0858969697039849 Angstrom\n",
      "Bond C18-C16 = 1.5290979285381456 Angstrom\n",
      "Bond N24-C18 = 1.4851805046629358 Angstrom\n",
      "Bond N24-H8 = 1.0437220074122178 Angstrom\n",
      "Bond N24-H12 = 1.0491575516626106 Angstrom\n",
      "Bond N24-H10 = 1.0488168339057984 Angstrom\n",
      "Bond O26-C16 = 1.244673142825027 Angstrom\n",
      "Bond O28-C16 = 1.240406225976854 Angstrom\n"
     ]
    }
   ],
   "source": [
    "bonds, bondlengths = uc.get_bonds()\n",
    "for (i,j),bondlength in zip(bonds,bondlengths):\n",
    "    print('Bond {}-{} = {} Angstrom'.format(labels[i],labels[j],bondlength))"
   ]
  },
  {
   "cell_type": "markdown",
   "id": "e612a585-16b7-4177-8098-af31a9a499cd",
   "metadata": {},
   "source": [
    "# Bond angles"
   ]
  },
  {
   "cell_type": "code",
   "execution_count": 7,
   "id": "17c22353-067c-4593-8282-716acb97aa7d",
   "metadata": {},
   "outputs": [
    {
     "name": "stdout",
     "output_type": "stream",
     "text": [
      "Bond angle C21-O31-H1 = 112.8517810805021 degrees\n",
      "Bond angle O31-C21-C19 = 113.78073414489421 degrees\n",
      "Bond angle O29-C21-C19 = 121.12214854749986 degrees\n",
      "Bond angle C21-C19-H5 = 107.62246136635883 degrees\n",
      "Bond angle H5-C19-H3 = 108.17623256864749 degrees\n",
      "Bond angle C17-C19-H5 = 111.2130561884551 degrees\n",
      "Bond angle C21-C19-H3 = 106.20762446779706 degrees\n",
      "Bond angle H3-C19-H5 = 108.17623256864749 degrees\n",
      "Bond angle C17-C19-H3 = 107.17606581669126 degrees\n",
      "Bond angle C21-C19-C17 = 116.09349999715677 degrees\n",
      "Bond angle C19-C17-C15 = 108.5708291767109 degrees\n",
      "Bond angle C15-C17-H13 = 109.060099776444 degrees\n",
      "Bond angle N23-C17-C15 = 109.82322961438933 degrees\n",
      "Bond angle C19-C17-H13 = 109.78277810137389 degrees\n",
      "Bond angle H13-C17-C15 = 109.060099776444 degrees\n",
      "Bond angle N23-C17-H13 = 107.84651721707314 degrees\n",
      "Bond angle C17-N23-H9 = 109.88781783012784 degrees\n",
      "Bond angle C17-N23-H7 = 110.06258744219997 degrees\n",
      "Bond angle C17-N23-H11 = 112.72039202510804 degrees\n",
      "Bond angle H9-N23-C17 = 109.88781783012784 degrees\n",
      "Bond angle H9-N23-H7 = 109.61815795978809 degrees\n",
      "Bond angle H11-N23-H9 = 106.78111240023344 degrees\n",
      "Bond angle H7-N23-C17 = 110.06258744219997 degrees\n",
      "Bond angle H7-N23-H9 = 109.61815795978809 degrees\n",
      "Bond angle H11-N23-H7 = 107.67294360338569 degrees\n",
      "Bond angle H11-N23-C17 = 112.72039202510804 degrees\n",
      "Bond angle C22-O32-H2 = 112.85178108050215 degrees\n",
      "Bond angle O32-C22-C20 = 113.78073414489423 degrees\n",
      "Bond angle O30-C22-C20 = 121.12214854749993 degrees\n",
      "Bond angle C22-C20-H4 = 106.20762446779695 degrees\n",
      "Bond angle H6-C20-H4 = 108.1762325686475 degrees\n",
      "Bond angle C18-C20-H4 = 107.17606581669135 degrees\n",
      "Bond angle C22-C20-H6 = 107.62246136635878 degrees\n",
      "Bond angle C18-C20-H6 = 111.2130561884552 degrees\n",
      "Bond angle C22-C20-C18 = 116.09349999715674 degrees\n",
      "Bond angle C20-C18-H14 = 109.78277810137394 degrees\n",
      "Bond angle C16-C18-H14 = 109.06009977644403 degrees\n",
      "Bond angle N24-C18-H14 = 107.8465172170731 degrees\n",
      "Bond angle C20-C18-C16 = 108.57082917671086 degrees\n",
      "Bond angle N24-C18-C16 = 109.82322961438929 degrees\n",
      "Bond angle C18-N24-H8 = 110.06258744219997 degrees\n",
      "Bond angle C18-N24-H12 = 112.72039202510803 degrees\n",
      "Bond angle C18-N24-H10 = 109.88781783012787 degrees\n",
      "Bond angle H8-N24-C18 = 110.06258744219997 degrees\n",
      "Bond angle H12-N24-H8 = 107.67294360338568 degrees\n",
      "Bond angle H10-N24-H8 = 109.61815795978809 degrees\n",
      "Bond angle H12-N24-C18 = 112.72039202510803 degrees\n",
      "Bond angle H12-N24-H10 = 106.78111240023347 degrees\n",
      "Bond angle H10-N24-C18 = 109.88781783012787 degrees\n",
      "Bond angle H10-N24-H12 = 106.78111240023347 degrees\n"
     ]
    }
   ],
   "source": [
    "angles,bondangles = uc.get_bond_angles()\n",
    "for (i,j,k),bondangle in zip(angles,bondangles):\n",
    "    print('Bond angle {}-{}-{} = {} degrees'.format(labels[i],labels[j],labels[k],bondangle))\n"
   ]
  },
  {
   "cell_type": "markdown",
   "id": "2bf28094-178f-4e8e-9599-8b40ec941380",
   "metadata": {},
   "source": [
    "# Torsion angles"
   ]
  },
  {
   "cell_type": "code",
   "execution_count": 8,
   "id": "09d4a1c1-77c1-4148-a933-502fc21350dd",
   "metadata": {},
   "outputs": [
    {
     "name": "stdout",
     "output_type": "stream",
     "text": [
      "Torsion angle C19-C21-O31-H1 = -179.48643944557597 degrees\n",
      "Torsion angle O29-C21-O31-H1 = 2.9862727627064305 degrees\n",
      "Torsion angle H1-O31-C21-C19 = -179.48643944557597 degrees\n",
      "Torsion angle O31-C21-C19-H5 = 179.89433400583167 degrees\n",
      "Torsion angle O31-C21-C19-H3 = -64.43621787013541 degrees\n",
      "Torsion angle O31-C21-C19-C17 = 54.56252365463551 degrees\n",
      "Torsion angle O29-C21-C19-H5 = -2.470228335963951 degrees\n",
      "Torsion angle O29-C21-C19-H3 = 113.199219788069 degrees\n",
      "Torsion angle O29-C21-C19-C17 = -127.80203868716009 degrees\n",
      "Torsion angle C15-C17-C19-H5 = 59.7953569859765 degrees\n",
      "Torsion angle H13-C17-C19-H5 = 178.93545765536462 degrees\n",
      "Torsion angle N23-C17-C19-H5 = -61.467247474545346 degrees\n",
      "Torsion angle C15-C17-C19-H3 = -58.25220095009225 degrees\n",
      "Torsion angle H13-C17-C19-H3 = 60.887899719295845 degrees\n",
      "Torsion angle N23-C17-C19-H3 = -179.51480541061412 degrees\n",
      "Torsion angle C21-C19-C17-C15 = -176.72125855276232 degrees\n",
      "Torsion angle C21-C19-C17-H13 = -57.5811578833742 degrees\n",
      "Torsion angle C21-C19-C17-N23 = 62.01613698671584 degrees\n",
      "Torsion angle H5-C19-C17-C15 = 59.7953569859765 degrees\n",
      "Torsion angle H3-C19-C17-C15 = -58.25220095009225 degrees\n",
      "Torsion angle C19-C17-C15-O25 = -85.31028873227183 degrees\n",
      "Torsion angle C19-C17-C15-O27 = 92.30919141042217 degrees\n",
      "Torsion angle O25-C15-C17-H13 = 155.09679256145793 degrees\n",
      "Torsion angle O27-C15-C17-H13 = -27.28372729584806 degrees\n",
      "Torsion angle H9-N23-C17-C15 = 51.79112181378438 degrees\n",
      "Torsion angle H7-N23-C17-C15 = -69.02104428405138 degrees\n",
      "Torsion angle H11-N23-C17-C15 = 170.75990862808166 degrees\n",
      "Torsion angle N23-C17-C15-O25 = 37.113459871132946 degrees\n",
      "Torsion angle N23-C17-C15-O27 = -145.26705998617305 degrees\n",
      "Torsion angle H5-C19-C17-H13 = 178.93545765536462 degrees\n",
      "Torsion angle H3-C19-C17-H13 = 60.887899719295845 degrees\n",
      "Torsion angle H13-C17-C15-O25 = 155.09679256145793 degrees\n",
      "Torsion angle H13-C17-C15-O27 = -27.28372729584806 degrees\n",
      "Torsion angle H9-N23-C17-H13 = -66.94248471392517 degrees\n",
      "Torsion angle H7-N23-C17-H13 = 172.24534918823906 degrees\n",
      "Torsion angle H11-N23-C17-H13 = 52.0263021003721 degrees\n",
      "Torsion angle C19-C17-N23-H9 = 172.32505534549068 degrees\n",
      "Torsion angle C15-C17-N23-H9 = 51.79112181378438 degrees\n",
      "Torsion angle H13-C17-N23-H9 = -66.94248471392517 degrees\n",
      "Torsion angle C19-C17-N23-H7 = 51.51288924765492 degrees\n",
      "Torsion angle C15-C17-N23-H7 = -69.02104428405138 degrees\n",
      "Torsion angle H13-C17-N23-H7 = 172.24534918823906 degrees\n",
      "Torsion angle C19-C17-N23-H11 = -68.70615784021204 degrees\n",
      "Torsion angle C15-C17-N23-H11 = 170.75990862808166 degrees\n",
      "Torsion angle H13-C17-N23-H11 = 52.0263021003721 degrees\n",
      "Torsion angle H9-N23-C17-C19 = 172.32505534549068 degrees\n",
      "Torsion angle H7-N23-C17-C19 = 51.51288924765492 degrees\n",
      "Torsion angle H11-N23-C17-C19 = -68.70615784021204 degrees\n",
      "Torsion angle C20-C22-O32-H2 = -179.48643944557597 degrees\n",
      "Torsion angle O30-C22-O32-H2 = 2.986272762706436 degrees\n",
      "Torsion angle H2-O32-C22-C20 = -179.48643944557597 degrees\n",
      "Torsion angle O32-C22-C20-H4 = -64.43621787013541 degrees\n",
      "Torsion angle O32-C22-C20-H6 = 179.8943340058317 degrees\n",
      "Torsion angle O32-C22-C20-C18 = 54.56252365463553 degrees\n",
      "Torsion angle O30-C22-C20-H4 = 113.19921978806902 degrees\n",
      "Torsion angle O30-C22-C20-H6 = -2.470228335963896 degrees\n",
      "Torsion angle O30-C22-C20-C18 = -127.80203868716006 degrees\n",
      "Torsion angle H14-C18-C20-H4 = 60.88789971929577 degrees\n",
      "Torsion angle C16-C18-C20-H4 = -58.25220095009238 degrees\n",
      "Torsion angle N24-C18-C20-H4 = -179.51480541061417 degrees\n",
      "Torsion angle H14-C18-C20-H6 = 178.93545765536464 degrees\n",
      "Torsion angle C16-C18-C20-H6 = 59.7953569859765 degrees\n",
      "Torsion angle N24-C18-C20-H6 = -61.467247474545296 degrees\n",
      "Torsion angle C22-C20-C18-H14 = -57.58115788337422 degrees\n",
      "Torsion angle C22-C20-C18-C16 = -176.72125855276235 degrees\n",
      "Torsion angle C22-C20-C18-N24 = 62.01613698671587 degrees\n",
      "Torsion angle H4-C20-C18-H14 = 60.88789971929577 degrees\n",
      "Torsion angle H6-C20-C18-H14 = 178.93545765536464 degrees\n",
      "Torsion angle O26-C16-C18-H14 = 155.0967925614579 degrees\n",
      "Torsion angle O28-C16-C18-H14 = -27.283727295848088 degrees\n",
      "Torsion angle H8-N24-C18-H14 = 172.24534918823906 degrees\n",
      "Torsion angle H12-N24-C18-H14 = 52.02630210037216 degrees\n",
      "Torsion angle H10-N24-C18-H14 = -66.94248471392514 degrees\n",
      "Torsion angle H4-C20-C18-C16 = -58.25220095009238 degrees\n",
      "Torsion angle H6-C20-C18-C16 = 59.7953569859765 degrees\n",
      "Torsion angle C20-C18-C16-O26 = -85.3102887322718 degrees\n",
      "Torsion angle C20-C18-C16-O28 = 92.3091914104222 degrees\n",
      "Torsion angle H8-N24-C18-C16 = -69.02104428405136 degrees\n",
      "Torsion angle H12-N24-C18-C16 = 170.75990862808175 degrees\n",
      "Torsion angle H10-N24-C18-C16 = 51.791121813784436 degrees\n",
      "Torsion angle N24-C18-C16-O26 = 37.11345987113295 degrees\n",
      "Torsion angle N24-C18-C16-O28 = -145.26705998617302 degrees\n",
      "Torsion angle C20-C18-N24-H8 = 51.51288924765488 degrees\n",
      "Torsion angle H14-C18-N24-H8 = 172.24534918823906 degrees\n",
      "Torsion angle C16-C18-N24-H8 = -69.02104428405136 degrees\n",
      "Torsion angle C20-C18-N24-H12 = -68.70615784021204 degrees\n",
      "Torsion angle H14-C18-N24-H12 = 52.02630210037216 degrees\n",
      "Torsion angle C16-C18-N24-H12 = 170.75990862808175 degrees\n",
      "Torsion angle C20-C18-N24-H10 = 172.32505534549068 degrees\n",
      "Torsion angle H14-C18-N24-H10 = -66.94248471392514 degrees\n",
      "Torsion angle C16-C18-N24-H10 = 51.791121813784436 degrees\n",
      "Torsion angle H8-N24-C18-C20 = 51.51288924765488 degrees\n",
      "Torsion angle H12-N24-C18-C20 = -68.70615784021204 degrees\n",
      "Torsion angle H10-N24-C18-C20 = 172.32505534549068 degrees\n"
     ]
    }
   ],
   "source": [
    "torsions,torsionangles = uc.get_torsions()\n",
    "for (i,j,k,l),torsionangle in zip(torsions,torsionangles):\n",
    "    print('Torsion angle {}-{}-{}-{} = {} degrees'.format(labels[i],labels[j],labels[k],labels[l],torsionangle))"
   ]
  },
  {
   "cell_type": "code",
   "execution_count": null,
   "id": "4d24b374-a1ea-4438-91d6-2065acc56149",
   "metadata": {},
   "outputs": [],
   "source": []
  }
 ],
 "metadata": {
  "kernelspec": {
   "display_name": "Python 3 (ipykernel)",
   "language": "python",
   "name": "python3"
  },
  "language_info": {
   "codemirror_mode": {
    "name": "ipython",
    "version": 3
   },
   "file_extension": ".py",
   "mimetype": "text/x-python",
   "name": "python",
   "nbconvert_exporter": "python",
   "pygments_lexer": "ipython3",
   "version": "3.13.1"
  }
 },
 "nbformat": 4,
 "nbformat_minor": 5
}
