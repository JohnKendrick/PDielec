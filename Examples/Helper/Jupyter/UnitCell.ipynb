{
 "cells": [
  {
   "cell_type": "markdown",
   "id": "54da5b6e-9031-420c-b63d-1dee63bbd0c7",
   "metadata": {},
   "source": [
    "# UnitCell examples"
   ]
  },
  {
   "cell_type": "code",
   "execution_count": 1,
   "id": "08702061-8489-4dba-88b8-826147fa102f",
   "metadata": {},
   "outputs": [],
   "source": [
    "import sys\n",
    "sys.path.insert(0, \"../../..\")\n",
    "from PDielec.UnitCell import UnitCell\n",
    "from PDielec.HelperRoutines   import getMaterial"
   ]
  },
  {
   "cell_type": "markdown",
   "id": "30b39177-505c-4c3d-ad09-06d85c49219c",
   "metadata": {},
   "source": [
    "## Read in the ZnO VASP calculation stored in OUTCAR/POSCAR/KPOINTS"
   ]
  },
  {
   "cell_type": "code",
   "execution_count": 2,
   "id": "5b315100-76d3-4558-9e40-a2d483b9a0ec",
   "metadata": {},
   "outputs": [],
   "source": [
    "ZnO = getMaterial('ZnO/OUTCAR')\n",
    "uc = ZnO.getCell()"
   ]
  },
  {
   "cell_type": "markdown",
   "id": "e10174f9-b4d6-431b-92ab-8f1b52aba79e",
   "metadata": {},
   "source": [
    "## Write out a cif file"
   ]
  },
  {
   "cell_type": "code",
   "execution_count": 3,
   "id": "81179632-ea16-4446-af4a-9777e3fdf69a",
   "metadata": {},
   "outputs": [],
   "source": [
    "uc.write_cif('test.cif')"
   ]
  },
  {
   "cell_type": "markdown",
   "id": "7733aa97-725a-422e-9010-65ab39b744b4",
   "metadata": {},
   "source": [
    "## Calculate the density (The output units are gm/cm3, cm is unit of length requested)"
   ]
  },
  {
   "cell_type": "code",
   "execution_count": 4,
   "id": "4dc2e1b8-aa98-493e-a139-8e1181621d19",
   "metadata": {},
   "outputs": [
    {
     "data": {
      "text/plain": [
       "5.439547880256457"
      ]
     },
     "execution_count": 4,
     "metadata": {},
     "output_type": "execute_result"
    }
   ],
   "source": [
    "uc.getDensity('cm')"
   ]
  },
  {
   "cell_type": "markdown",
   "id": "f3cdfb2f-1243-418b-9cd8-e9d44c55dede",
   "metadata": {},
   "source": [
    "## Setup the unit-cell directly\n",
    "Notice that there are some small rounding issues"
   ]
  },
  {
   "cell_type": "code",
   "execution_count": 5,
   "id": "2db81006-0928-4ff2-b226-12ca058d7ee5",
   "metadata": {},
   "outputs": [
    {
     "name": "stdout",
     "output_type": "stream",
     "text": [
      "Space group international symbol is:  P6_3mc\n",
      "Space group number is              :  186\n",
      "Units for length are:  Angstrom\n",
      " \n",
      "Unit Cell a,b,c \n",
      "     3.295058     3.295058     5.284824\n",
      " \n",
      "Unit Cell alpha,beta,gamma\n",
      "    90.000000    90.000000   119.999999\n",
      " \n",
      "lattice\n",
      "     2.853604    -1.647529     0.000000\n",
      "     0.000000     3.295058     0.000000\n",
      "     0.000000     0.000000     5.284824\n",
      " \n",
      "Element names\n",
      " Zn        Zn        O         O        \n",
      " \n",
      "Element masses\n",
      " \n",
      " \n",
      "Fractional coords\n",
      "     0.333333     0.666667     0.000900\n",
      "     0.666667     0.333333     0.500900\n",
      "     0.333333     0.666667     0.381600\n",
      "     0.666667     0.333333     0.881600\n",
      " \n",
      "Cartesian coords\n",
      "     0.951200     1.647531     0.004756\n",
      "     1.902404    -0.000002     2.647168\n",
      "     0.951200     1.647531     2.016689\n",
      "     1.902404    -0.000002     4.659101\n"
     ]
    }
   ],
   "source": [
    "a = [2.853604, -1.647529, 0.0]\n",
    "b = [0.0,       3.295058, 0.0]\n",
    "c = [0.0,       0.0,      5.284824]\n",
    "cell = UnitCell( a, b, c )\n",
    "cell.set_element_names(['Zn', 'Zn', 'O', 'O'])\n",
    "coords = [ [ 0.333333,    0.666667,    0.000900 ],\n",
    "           [ 0.666667,    0.333333,    0.500900 ],\n",
    "           [ 0.333333,    0.666667,    0.381600 ],\n",
    "           [ 0.666667,    0.333333,    0.881600 ] ]\n",
    "cell.set_fractional_coordinates(coords)\n",
    "cell.print()"
   ]
  },
  {
   "cell_type": "code",
   "execution_count": 6,
   "id": "9adc2aaa-97c8-4c65-925c-3489ae55fb5e",
   "metadata": {},
   "outputs": [
    {
     "data": {
      "text/plain": [
       "49.69209390037285"
      ]
     },
     "execution_count": 6,
     "metadata": {},
     "output_type": "execute_result"
    }
   ],
   "source": [
    "cell.getVolume('Angstrom')"
   ]
  },
  {
   "cell_type": "code",
   "execution_count": null,
   "id": "17c22353-067c-4593-8282-716acb97aa7d",
   "metadata": {},
   "outputs": [],
   "source": []
  }
 ],
 "metadata": {
  "kernelspec": {
   "display_name": "Python 3 (ipykernel)",
   "language": "python",
   "name": "python3"
  },
  "language_info": {
   "codemirror_mode": {
    "name": "ipython",
    "version": 3
   },
   "file_extension": ".py",
   "mimetype": "text/x-python",
   "name": "python",
   "nbconvert_exporter": "python",
   "pygments_lexer": "ipython3",
   "version": "3.11.3"
  }
 },
 "nbformat": 4,
 "nbformat_minor": 5
}
